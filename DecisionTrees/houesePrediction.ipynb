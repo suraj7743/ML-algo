{
 "cells": [
  {
   "cell_type": "code",
   "execution_count": 1,
   "id": "b583ad5d-97f5-4e33-88e5-aa2137d86b80",
   "metadata": {},
   "outputs": [],
   "source": [
    "import pandas as pd \n",
    "import numpy as np \n",
    "import matplotlib.pyplot as plt \n",
    "import seaborn as sns \n",
    "import os \n",
    "import scipy.stats as stats\n",
    "plt.style.use('ggplot')"
   ]
  },
  {
   "cell_type": "code",
   "execution_count": 2,
   "id": "1d78422d-3b03-4cc4-97b3-b97d4a84802f",
   "metadata": {},
   "outputs": [],
   "source": [
    "from sklearn.model_selection import train_test_split\n",
    "from sklearn.tree import DecisionTreeRegressor\n",
    "from sklearn.metrics import accuracy_score, r2_score\n",
    "from sklearn.model_selection import GridSearchCV"
   ]
  },
  {
   "cell_type": "code",
   "execution_count": 3,
   "id": "e80ae2f6-4143-4e3d-856d-947cc592bd91",
   "metadata": {},
   "outputs": [
    {
     "name": "stdout",
     "output_type": "stream",
     "text": [
      "null check  date             0\n",
      "price            0\n",
      "bedrooms         0\n",
      "bathrooms        0\n",
      "sqft_living      0\n",
      "sqft_lot         0\n",
      "floors           0\n",
      "waterfront       0\n",
      "view             0\n",
      "condition        0\n",
      "sqft_above       0\n",
      "sqft_basement    0\n",
      "yr_built         0\n",
      "yr_renovated     0\n",
      "street           0\n",
      "city             0\n",
      "statezip         0\n",
      "country          0\n",
      "dtype: int64\n",
      "--------------------------------------------------\n",
      "<class 'pandas.core.frame.DataFrame'>\n",
      "RangeIndex: 4600 entries, 0 to 4599\n",
      "Data columns (total 18 columns):\n",
      " #   Column         Non-Null Count  Dtype  \n",
      "---  ------         --------------  -----  \n",
      " 0   date           4600 non-null   object \n",
      " 1   price          4600 non-null   float64\n",
      " 2   bedrooms       4600 non-null   float64\n",
      " 3   bathrooms      4600 non-null   float64\n",
      " 4   sqft_living    4600 non-null   int64  \n",
      " 5   sqft_lot       4600 non-null   int64  \n",
      " 6   floors         4600 non-null   float64\n",
      " 7   waterfront     4600 non-null   int64  \n",
      " 8   view           4600 non-null   int64  \n",
      " 9   condition      4600 non-null   int64  \n",
      " 10  sqft_above     4600 non-null   int64  \n",
      " 11  sqft_basement  4600 non-null   int64  \n",
      " 12  yr_built       4600 non-null   int64  \n",
      " 13  yr_renovated   4600 non-null   int64  \n",
      " 14  street         4600 non-null   object \n",
      " 15  city           4600 non-null   object \n",
      " 16  statezip       4600 non-null   object \n",
      " 17  country        4600 non-null   object \n",
      "dtypes: float64(4), int64(9), object(5)\n",
      "memory usage: 647.0+ KB\n",
      "info check None\n"
     ]
    }
   ],
   "source": [
    "df= pd.read_csv('../LinearRegression/housePredcition/data.csv')\n",
    "print(\"null check \",df.isnull().sum())\n",
    "print(\"-\"*50)\n",
    "print('info check', df.info())"
   ]
  },
  {
   "cell_type": "code",
   "execution_count": 4,
   "id": "a91c53fe-2ebb-4256-97df-bb336832bf5e",
   "metadata": {},
   "outputs": [
    {
     "data": {
      "text/html": [
       "<div>\n",
       "<style scoped>\n",
       "    .dataframe tbody tr th:only-of-type {\n",
       "        vertical-align: middle;\n",
       "    }\n",
       "\n",
       "    .dataframe tbody tr th {\n",
       "        vertical-align: top;\n",
       "    }\n",
       "\n",
       "    .dataframe thead th {\n",
       "        text-align: right;\n",
       "    }\n",
       "</style>\n",
       "<table border=\"1\" class=\"dataframe\">\n",
       "  <thead>\n",
       "    <tr style=\"text-align: right;\">\n",
       "      <th></th>\n",
       "      <th>date</th>\n",
       "      <th>price</th>\n",
       "      <th>bedrooms</th>\n",
       "      <th>bathrooms</th>\n",
       "      <th>sqft_living</th>\n",
       "      <th>sqft_lot</th>\n",
       "      <th>floors</th>\n",
       "      <th>waterfront</th>\n",
       "      <th>view</th>\n",
       "      <th>condition</th>\n",
       "      <th>sqft_above</th>\n",
       "      <th>sqft_basement</th>\n",
       "      <th>yr_built</th>\n",
       "      <th>yr_renovated</th>\n",
       "      <th>street</th>\n",
       "      <th>city</th>\n",
       "      <th>statezip</th>\n",
       "      <th>country</th>\n",
       "    </tr>\n",
       "  </thead>\n",
       "  <tbody>\n",
       "    <tr>\n",
       "      <th>1183</th>\n",
       "      <td>2014-05-22 00:00:00</td>\n",
       "      <td>431500.0</td>\n",
       "      <td>3.0</td>\n",
       "      <td>3.5</td>\n",
       "      <td>1900</td>\n",
       "      <td>1612</td>\n",
       "      <td>2.0</td>\n",
       "      <td>0</td>\n",
       "      <td>0</td>\n",
       "      <td>3</td>\n",
       "      <td>1430</td>\n",
       "      <td>470</td>\n",
       "      <td>2008</td>\n",
       "      <td>0</td>\n",
       "      <td>6527 41st Ave SW</td>\n",
       "      <td>Seattle</td>\n",
       "      <td>WA 98136</td>\n",
       "      <td>USA</td>\n",
       "    </tr>\n",
       "  </tbody>\n",
       "</table>\n",
       "</div>"
      ],
      "text/plain": [
       "                     date     price  bedrooms  bathrooms  sqft_living  \\\n",
       "1183  2014-05-22 00:00:00  431500.0       3.0        3.5         1900   \n",
       "\n",
       "      sqft_lot  floors  waterfront  view  condition  sqft_above  \\\n",
       "1183      1612     2.0           0     0          3        1430   \n",
       "\n",
       "      sqft_basement  yr_built  yr_renovated            street     city  \\\n",
       "1183            470      2008             0  6527 41st Ave SW  Seattle   \n",
       "\n",
       "      statezip country  \n",
       "1183  WA 98136     USA  "
      ]
     },
     "execution_count": 4,
     "metadata": {},
     "output_type": "execute_result"
    }
   ],
   "source": [
    "df.sample()"
   ]
  },
  {
   "cell_type": "code",
   "execution_count": 5,
   "id": "a6ed1d9f-283b-44a0-8c32-c215a3d6d259",
   "metadata": {},
   "outputs": [],
   "source": [
    "df['date'] = pd.to_datetime(df['date'])\n",
    "int_cols = ['bedrooms', 'waterfront', 'view', 'condition']\n",
    "df[int_cols] = df[int_cols].astype(int)"
   ]
  },
  {
   "cell_type": "code",
   "execution_count": 6,
   "id": "7c5469bf-3bbc-4bf7-aade-2f6ad9bde751",
   "metadata": {},
   "outputs": [
    {
     "name": "stdout",
     "output_type": "stream",
     "text": [
      "street\n",
      "--------------------------------------------------\n",
      "4525\n",
      "['18810 Densmore Ave N' '709 W Blaine St' '26206-26214 143rd Ave SE' ...\n",
      " '759 Ilwaco Pl NE' '5148 S Creston St' '18717 SE 258th St']\n",
      "city\n",
      "--------------------------------------------------\n",
      "44\n",
      "['Shoreline' 'Seattle' 'Kent' 'Bellevue' 'Redmond' 'Maple Valley'\n",
      " 'North Bend' 'Lake Forest Park' 'Sammamish' 'Auburn' 'Des Moines'\n",
      " 'Bothell' 'Federal Way' 'Kirkland' 'Issaquah' 'Woodinville'\n",
      " 'Normandy Park' 'Fall City' 'Renton' 'Carnation' 'Snoqualmie' 'Duvall'\n",
      " 'Burien' 'Covington' 'Inglewood-Finn Hill' 'Kenmore' 'Newcastle'\n",
      " 'Mercer Island' 'Black Diamond' 'Ravensdale' 'Clyde Hill' 'Algona'\n",
      " 'Skykomish' 'Tukwila' 'Vashon' 'Yarrow Point' 'SeaTac' 'Medina'\n",
      " 'Enumclaw' 'Snoqualmie Pass' 'Pacific' 'Beaux Arts Village' 'Preston'\n",
      " 'Milton']\n",
      "statezip\n",
      "--------------------------------------------------\n",
      "77\n",
      "['WA 98133' 'WA 98119' 'WA 98042' 'WA 98008' 'WA 98052' 'WA 98115'\n",
      " 'WA 98038' 'WA 98045' 'WA 98155' 'WA 98105' 'WA 98074' 'WA 98106'\n",
      " 'WA 98007' 'WA 98092' 'WA 98198' 'WA 98006' 'WA 98102' 'WA 98011'\n",
      " 'WA 98125' 'WA 98003' 'WA 98136' 'WA 98033' 'WA 98029' 'WA 98117'\n",
      " 'WA 98034' 'WA 98072' 'WA 98023' 'WA 98107' 'WA 98166' 'WA 98116'\n",
      " 'WA 98024' 'WA 98055' 'WA 98077' 'WA 98027' 'WA 98059' 'WA 98075'\n",
      " 'WA 98014' 'WA 98065' 'WA 98199' 'WA 98053' 'WA 98058' 'WA 98122'\n",
      " 'WA 98103' 'WA 98112' 'WA 98005' 'WA 98118' 'WA 98177' 'WA 98004'\n",
      " 'WA 98019' 'WA 98144' 'WA 98168' 'WA 98001' 'WA 98056' 'WA 98146'\n",
      " 'WA 98028' 'WA 98148' 'WA 98057' 'WA 98040' 'WA 98010' 'WA 98051'\n",
      " 'WA 98031' 'WA 98109' 'WA 98030' 'WA 98126' 'WA 98032' 'WA 98178'\n",
      " 'WA 98288' 'WA 98108' 'WA 98070' 'WA 98188' 'WA 98002' 'WA 98039'\n",
      " 'WA 98022' 'WA 98068' 'WA 98047' 'WA 98050' 'WA 98354']\n",
      "country\n",
      "--------------------------------------------------\n",
      "1\n",
      "['USA']\n"
     ]
    }
   ],
   "source": [
    "category=df.select_dtypes(include='object').columns\n",
    "for i in category:\n",
    "    print (i)\n",
    "    print('-'*50)\n",
    "    print(df[i].nunique())\n",
    "\n",
    "    print(df[i].unique())\n",
    "    "
   ]
  },
  {
   "cell_type": "code",
   "execution_count": 7,
   "id": "4cdbb33d-fbf6-4dff-9a2a-1e4a3c898254",
   "metadata": {},
   "outputs": [],
   "source": [
    "## don't think stateZip will be cruicial so dropping it\n",
    "## has around 4525 unique street so dropping street columns for now \n",
    "## as all has rows has 'usa' country so not important\n",
    "df.drop(columns=['street', 'statezip','country'],inplace=True)\n"
   ]
  },
  {
   "cell_type": "code",
   "execution_count": 8,
   "id": "6f2b4094-db18-4683-9d8f-f5657f2469c9",
   "metadata": {},
   "outputs": [
    {
     "data": {
      "text/html": [
       "<div>\n",
       "<style scoped>\n",
       "    .dataframe tbody tr th:only-of-type {\n",
       "        vertical-align: middle;\n",
       "    }\n",
       "\n",
       "    .dataframe tbody tr th {\n",
       "        vertical-align: top;\n",
       "    }\n",
       "\n",
       "    .dataframe thead th {\n",
       "        text-align: right;\n",
       "    }\n",
       "</style>\n",
       "<table border=\"1\" class=\"dataframe\">\n",
       "  <thead>\n",
       "    <tr style=\"text-align: right;\">\n",
       "      <th></th>\n",
       "      <th>date</th>\n",
       "      <th>price</th>\n",
       "      <th>bedrooms</th>\n",
       "      <th>bathrooms</th>\n",
       "      <th>sqft_living</th>\n",
       "      <th>sqft_lot</th>\n",
       "      <th>floors</th>\n",
       "      <th>waterfront</th>\n",
       "      <th>view</th>\n",
       "      <th>condition</th>\n",
       "      <th>sqft_above</th>\n",
       "      <th>sqft_basement</th>\n",
       "      <th>yr_built</th>\n",
       "      <th>yr_renovated</th>\n",
       "      <th>city</th>\n",
       "    </tr>\n",
       "  </thead>\n",
       "  <tbody>\n",
       "    <tr>\n",
       "      <th>1957</th>\n",
       "      <td>2014-06-05</td>\n",
       "      <td>292000.0</td>\n",
       "      <td>5</td>\n",
       "      <td>2.5</td>\n",
       "      <td>2490</td>\n",
       "      <td>7666</td>\n",
       "      <td>1.0</td>\n",
       "      <td>0</td>\n",
       "      <td>0</td>\n",
       "      <td>4</td>\n",
       "      <td>1490</td>\n",
       "      <td>1000</td>\n",
       "      <td>1989</td>\n",
       "      <td>0</td>\n",
       "      <td>Kent</td>\n",
       "    </tr>\n",
       "  </tbody>\n",
       "</table>\n",
       "</div>"
      ],
      "text/plain": [
       "           date     price  bedrooms  bathrooms  sqft_living  sqft_lot  floors  \\\n",
       "1957 2014-06-05  292000.0         5        2.5         2490      7666     1.0   \n",
       "\n",
       "      waterfront  view  condition  sqft_above  sqft_basement  yr_built  \\\n",
       "1957           0     0          4        1490           1000      1989   \n",
       "\n",
       "      yr_renovated  city  \n",
       "1957             0  Kent  "
      ]
     },
     "execution_count": 8,
     "metadata": {},
     "output_type": "execute_result"
    }
   ],
   "source": [
    "df.sample()"
   ]
  },
  {
   "cell_type": "code",
   "execution_count": 9,
   "id": "a39c56ef-bb67-4ceb-a24b-e902cbe59351",
   "metadata": {},
   "outputs": [],
   "source": [
    "##now only one category columns left (city) may be need to perform one hot encoding lets see"
   ]
  },
  {
   "cell_type": "code",
   "execution_count": 10,
   "id": "98e8f647-5207-4e72-9b7e-f83d2a896df3",
   "metadata": {},
   "outputs": [],
   "source": [
    "## removing date for now \n",
    "df.drop(columns='date',inplace=True)"
   ]
  },
  {
   "cell_type": "code",
   "execution_count": 11,
   "id": "86ef8757-42e0-47ef-976f-139bb06ba873",
   "metadata": {},
   "outputs": [],
   "source": [
    "## perform one hot encoding on city columns \n",
    "df=pd.get_dummies(df, columns=['city'], drop_first=True,dtype=np.int_)"
   ]
  },
  {
   "cell_type": "code",
   "execution_count": 68,
   "id": "7e7ddc90-d468-42de-b1da-2eeab59e5bc3",
   "metadata": {},
   "outputs": [],
   "source": [
    "## before using decision Tree lets split label and feature adn perform train test split \n",
    "x=df.iloc[:,1:]\n",
    "y=df['price']"
   ]
  },
  {
   "cell_type": "code",
   "execution_count": 69,
   "id": "12a4d8c5-9f67-4c0d-9806-93e6fb9732d5",
   "metadata": {},
   "outputs": [],
   "source": [
    "x_train , x_test, y_train , y_test=train_test_split(x, y , test_size=0.2, random_state=42)"
   ]
  },
  {
   "cell_type": "code",
   "execution_count": 70,
   "id": "ee894974-c116-4c19-9fdf-d6a6cd05da4d",
   "metadata": {},
   "outputs": [
    {
     "name": "stdout",
     "output_type": "stream",
     "text": [
      "(3680, 55)\n",
      "(920, 55)\n",
      "(3680,)\n",
      "(920,)\n"
     ]
    }
   ],
   "source": [
    "print(x_train.shape)\n",
    "print(x_test.shape)\n",
    "print(y_train.shape)\n",
    "print(y_test.shape)"
   ]
  },
  {
   "cell_type": "code",
   "execution_count": 81,
   "id": "5a6b8835-70b3-498e-8c7a-62fbcba834cf",
   "metadata": {},
   "outputs": [
    {
     "name": "stdout",
     "output_type": "stream",
     "text": [
      "0.5193519946192562\n",
      "{'max_features': 25, 'min_samples_split': 75}\n"
     ]
    }
   ],
   "source": [
    "param_dist={\n",
    "    \"min_samples_split\":[50,55,60,65,70,75,80,85,90,100],\n",
    "    \"max_features\":[20,21,22,23,24,25]\n",
    "}\n",
    "clf=DecisionTreeRegressor()\n",
    "clf.fit(x_train,y_train)\n",
    "grid = GridSearchCV(estimator=clf,param_grid=param_dist, cv=10,n_jobs=-1,scoring=\"r2\")\n",
    "grid.fit(x_train,y_train)\n",
    "print(grid.best_score_)\n",
    "print(grid.best_params_)\n",
    "\n"
   ]
  },
  {
   "cell_type": "code",
   "execution_count": 82,
   "id": "3d4433a3-0003-4f9a-bd4b-b1799df649b5",
   "metadata": {},
   "outputs": [
    {
     "name": "stdout",
     "output_type": "stream",
     "text": [
      "0.03630591251420556\n"
     ]
    }
   ],
   "source": [
    "clf2=DecisionTreeRegressor(max_features= 21, min_samples_split= 65)\n",
    "clf2.fit(x_train,y_train)\n",
    "y_pred2=clf2.predict(x_test)\n",
    "print(r2_score(y_test, y_pred2))"
   ]
  },
  {
   "cell_type": "code",
   "execution_count": null,
   "id": "be4cfad4-6e61-4606-9e28-07b144c43078",
   "metadata": {},
   "outputs": [],
   "source": []
  }
 ],
 "metadata": {
  "kernelspec": {
   "display_name": "Python 3 (ipykernel)",
   "language": "python",
   "name": "python3"
  },
  "language_info": {
   "codemirror_mode": {
    "name": "ipython",
    "version": 3
   },
   "file_extension": ".py",
   "mimetype": "text/x-python",
   "name": "python",
   "nbconvert_exporter": "python",
   "pygments_lexer": "ipython3",
   "version": "3.10.12"
  }
 },
 "nbformat": 4,
 "nbformat_minor": 5
}
